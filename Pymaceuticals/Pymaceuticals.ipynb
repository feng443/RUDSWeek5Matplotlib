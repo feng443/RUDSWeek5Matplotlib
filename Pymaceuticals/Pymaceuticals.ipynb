{
 "cells": [
  {
   "cell_type": "code",
   "execution_count": 382,
   "metadata": {},
   "outputs": [
    {
     "data": {
      "text/plain": [
       "'\\nTODO: \\n\\n1) Change survival rate to percentage \\n2) Add error range for lines\\n3) Show error range for bar\\n\\n'"
      ]
     },
     "execution_count": 382,
     "metadata": {},
     "output_type": "execute_result"
    }
   ],
   "source": [
    "import os\n",
    "import numpy as np\n",
    "import pandas as pd\n",
    "import matplotlib.pyplot as plt\n",
    "\n",
    "'''\n",
    "TODO: \n",
    "\n",
    "1) Change survival rate to percentage \n",
    "2) Add error range for lines\n",
    "3) Show error range for bar\n",
    "\n",
    "'''"
   ]
  },
  {
   "cell_type": "markdown",
   "metadata": {},
   "source": [
    "## Prepare Data"
   ]
  },
  {
   "cell_type": "code",
   "execution_count": 383,
   "metadata": {
    "scrolled": true
   },
   "outputs": [
    {
     "data": {
      "text/html": [
       "<div>\n",
       "<style>\n",
       "    .dataframe thead tr:only-child th {\n",
       "        text-align: right;\n",
       "    }\n",
       "\n",
       "    .dataframe thead th {\n",
       "        text-align: left;\n",
       "    }\n",
       "\n",
       "    .dataframe tbody tr th {\n",
       "        vertical-align: top;\n",
       "    }\n",
       "</style>\n",
       "<table border=\"1\" class=\"dataframe\">\n",
       "  <thead>\n",
       "    <tr style=\"text-align: right;\">\n",
       "      <th></th>\n",
       "      <th>Mouse ID</th>\n",
       "      <th>Timepoint</th>\n",
       "      <th>Tumor Volume (mm3)</th>\n",
       "      <th>Metastatic Sites</th>\n",
       "      <th>Drug</th>\n",
       "    </tr>\n",
       "  </thead>\n",
       "  <tbody>\n",
       "    <tr>\n",
       "      <th>0</th>\n",
       "      <td>b128</td>\n",
       "      <td>0</td>\n",
       "      <td>45.000000</td>\n",
       "      <td>0</td>\n",
       "      <td>Capomulin</td>\n",
       "    </tr>\n",
       "    <tr>\n",
       "      <th>1</th>\n",
       "      <td>b128</td>\n",
       "      <td>5</td>\n",
       "      <td>45.651331</td>\n",
       "      <td>0</td>\n",
       "      <td>Capomulin</td>\n",
       "    </tr>\n",
       "    <tr>\n",
       "      <th>2</th>\n",
       "      <td>b128</td>\n",
       "      <td>10</td>\n",
       "      <td>43.270852</td>\n",
       "      <td>0</td>\n",
       "      <td>Capomulin</td>\n",
       "    </tr>\n",
       "    <tr>\n",
       "      <th>3</th>\n",
       "      <td>b128</td>\n",
       "      <td>15</td>\n",
       "      <td>43.784893</td>\n",
       "      <td>0</td>\n",
       "      <td>Capomulin</td>\n",
       "    </tr>\n",
       "    <tr>\n",
       "      <th>4</th>\n",
       "      <td>b128</td>\n",
       "      <td>20</td>\n",
       "      <td>42.731552</td>\n",
       "      <td>0</td>\n",
       "      <td>Capomulin</td>\n",
       "    </tr>\n",
       "  </tbody>\n",
       "</table>\n",
       "</div>"
      ],
      "text/plain": [
       "  Mouse ID  Timepoint  Tumor Volume (mm3)  Metastatic Sites       Drug\n",
       "0     b128          0           45.000000                 0  Capomulin\n",
       "1     b128          5           45.651331                 0  Capomulin\n",
       "2     b128         10           43.270852                 0  Capomulin\n",
       "3     b128         15           43.784893                 0  Capomulin\n",
       "4     b128         20           42.731552                 0  Capomulin"
      ]
     },
     "execution_count": 383,
     "metadata": {},
     "output_type": "execute_result"
    }
   ],
   "source": [
    "df_clinical_trial = pd.read_csv(\n",
    "    os.path.join('raw_data', 'clinicaltrial_data.csv')\n",
    ")\n",
    "\n",
    "df_mouse_drug = pd.read_csv(\n",
    "    os.path.join('raw_data', 'mouse_drug_data.csv')\n",
    ")\n",
    "df_combo = df_clinical_trial.merge(\n",
    "    df_mouse_drug,\n",
    "    on='Mouse ID',\n",
    "    how='outer'\n",
    ")\n",
    "\n",
    "DRUGS = ['Capomulin', 'Ketapril', 'Infubinol', 'Placebo']\n",
    "df_combo.head()"
   ]
  },
  {
   "cell_type": "markdown",
   "metadata": {},
   "source": [
    "## Tumer Volume Over Time"
   ]
  },
  {
   "cell_type": "code",
   "execution_count": 402,
   "metadata": {},
   "outputs": [
    {
     "data": {
      "text/html": [
       "<div>\n",
       "<style>\n",
       "    .dataframe thead tr:only-child th {\n",
       "        text-align: right;\n",
       "    }\n",
       "\n",
       "    .dataframe thead th {\n",
       "        text-align: left;\n",
       "    }\n",
       "\n",
       "    .dataframe tbody tr th {\n",
       "        vertical-align: top;\n",
       "    }\n",
       "</style>\n",
       "<table border=\"1\" class=\"dataframe\">\n",
       "  <thead>\n",
       "    <tr style=\"text-align: right;\">\n",
       "      <th>Drug</th>\n",
       "      <th>Capomulin</th>\n",
       "      <th>Ketapril</th>\n",
       "      <th>Infubinol</th>\n",
       "      <th>Placebo</th>\n",
       "    </tr>\n",
       "    <tr>\n",
       "      <th>Timepoint</th>\n",
       "      <th></th>\n",
       "      <th></th>\n",
       "      <th></th>\n",
       "      <th></th>\n",
       "    </tr>\n",
       "  </thead>\n",
       "  <tbody>\n",
       "    <tr>\n",
       "      <th>0</th>\n",
       "      <td>45.000000</td>\n",
       "      <td>45.000000</td>\n",
       "      <td>45.000000</td>\n",
       "      <td>45.000000</td>\n",
       "    </tr>\n",
       "    <tr>\n",
       "      <th>5</th>\n",
       "      <td>44.266086</td>\n",
       "      <td>47.389175</td>\n",
       "      <td>47.062001</td>\n",
       "      <td>47.125589</td>\n",
       "    </tr>\n",
       "    <tr>\n",
       "      <th>10</th>\n",
       "      <td>43.084291</td>\n",
       "      <td>49.582269</td>\n",
       "      <td>49.403909</td>\n",
       "      <td>49.423329</td>\n",
       "    </tr>\n",
       "    <tr>\n",
       "      <th>15</th>\n",
       "      <td>42.064317</td>\n",
       "      <td>52.399974</td>\n",
       "      <td>51.296397</td>\n",
       "      <td>51.359742</td>\n",
       "    </tr>\n",
       "    <tr>\n",
       "      <th>20</th>\n",
       "      <td>40.716325</td>\n",
       "      <td>54.920935</td>\n",
       "      <td>53.197691</td>\n",
       "      <td>54.364417</td>\n",
       "    </tr>\n",
       "  </tbody>\n",
       "</table>\n",
       "</div>"
      ],
      "text/plain": [
       "Drug       Capomulin   Ketapril  Infubinol    Placebo\n",
       "Timepoint                                            \n",
       "0          45.000000  45.000000  45.000000  45.000000\n",
       "5          44.266086  47.389175  47.062001  47.125589\n",
       "10         43.084291  49.582269  49.403909  49.423329\n",
       "15         42.064317  52.399974  51.296397  51.359742\n",
       "20         40.716325  54.920935  53.197691  54.364417"
      ]
     },
     "execution_count": 402,
     "metadata": {},
     "output_type": "execute_result"
    }
   ],
   "source": [
    "df_tumor_vol = df_combo.pivot_table(\n",
    "    values='Tumor Volume (mm3)',\n",
    "    index='Timepoint',\n",
    "    columns='Drug'\n",
    ")[DRUGS]\n",
    "\n",
    "df_tumor_vol.head()"
   ]
  },
  {
   "cell_type": "code",
   "execution_count": 403,
   "metadata": {},
   "outputs": [
    {
     "data": {
      "image/png": "[encoded data removed]",
      "text/plain": [
       "<matplotlib.figure.Figure at 0x1fb964dacc0>"
      ]
     },
     "metadata": {},
     "output_type": "display_data"
    }
   ],
   "source": [
    " df_tumor_vol.plot.line(\n",
    "    marker='x',\n",
    "    title='Tumer Response to Treatment',\n",
    ")   \n",
    "plt.xlabel('Time(Days)')\n",
    "plt.ylabel('Tumor Volume (mm3)')\n",
    "plt.show()"
   ]
  },
  {
   "cell_type": "markdown",
   "metadata": {},
   "source": [
    "## Cancer Spreading Over Time"
   ]
  },
  {
   "cell_type": "code",
   "execution_count": 404,
   "metadata": {},
   "outputs": [
    {
     "data": {
      "text/html": [
       "<div>\n",
       "<style>\n",
       "    .dataframe thead tr:only-child th {\n",
       "        text-align: right;\n",
       "    }\n",
       "\n",
       "    .dataframe thead th {\n",
       "        text-align: left;\n",
       "    }\n",
       "\n",
       "    .dataframe tbody tr th {\n",
       "        vertical-align: top;\n",
       "    }\n",
       "</style>\n",
       "<table border=\"1\" class=\"dataframe\">\n",
       "  <thead>\n",
       "    <tr style=\"text-align: right;\">\n",
       "      <th>Drug</th>\n",
       "      <th>Capomulin</th>\n",
       "      <th>Ketapril</th>\n",
       "      <th>Infubinol</th>\n",
       "      <th>Placebo</th>\n",
       "    </tr>\n",
       "    <tr>\n",
       "      <th>Timepoint</th>\n",
       "      <th></th>\n",
       "      <th></th>\n",
       "      <th></th>\n",
       "      <th></th>\n",
       "    </tr>\n",
       "  </thead>\n",
       "  <tbody>\n",
       "    <tr>\n",
       "      <th>0</th>\n",
       "      <td>0.000000</td>\n",
       "      <td>0.000000</td>\n",
       "      <td>0.000000</td>\n",
       "      <td>0.000000</td>\n",
       "    </tr>\n",
       "    <tr>\n",
       "      <th>5</th>\n",
       "      <td>0.160000</td>\n",
       "      <td>0.304348</td>\n",
       "      <td>0.280000</td>\n",
       "      <td>0.375000</td>\n",
       "    </tr>\n",
       "    <tr>\n",
       "      <th>10</th>\n",
       "      <td>0.320000</td>\n",
       "      <td>0.590909</td>\n",
       "      <td>0.666667</td>\n",
       "      <td>0.833333</td>\n",
       "    </tr>\n",
       "    <tr>\n",
       "      <th>15</th>\n",
       "      <td>0.375000</td>\n",
       "      <td>0.842105</td>\n",
       "      <td>0.904762</td>\n",
       "      <td>1.250000</td>\n",
       "    </tr>\n",
       "    <tr>\n",
       "      <th>20</th>\n",
       "      <td>0.652174</td>\n",
       "      <td>1.210526</td>\n",
       "      <td>1.050000</td>\n",
       "      <td>1.526316</td>\n",
       "    </tr>\n",
       "  </tbody>\n",
       "</table>\n",
       "</div>"
      ],
      "text/plain": [
       "Drug       Capomulin  Ketapril  Infubinol   Placebo\n",
       "Timepoint                                          \n",
       "0           0.000000  0.000000   0.000000  0.000000\n",
       "5           0.160000  0.304348   0.280000  0.375000\n",
       "10          0.320000  0.590909   0.666667  0.833333\n",
       "15          0.375000  0.842105   0.904762  1.250000\n",
       "20          0.652174  1.210526   1.050000  1.526316"
      ]
     },
     "execution_count": 404,
     "metadata": {},
     "output_type": "execute_result"
    }
   ],
   "source": [
    "df_metastatic= df_combo.pivot_table(\n",
    "    values='Metastatic Sites',\n",
    "    index='Timepoint',\n",
    "    columns='Drug'\n",
    ")[DRUGS]\n",
    "\n",
    "df_metastatic.head()"
   ]
  },
  {
   "cell_type": "code",
   "execution_count": 405,
   "metadata": {},
   "outputs": [
    {
     "data": {
      "image/png": "[encoded data removed]",
      "text/plain": [
       "<matplotlib.figure.Figure at 0x1fb94c56160>"
      ]
     },
     "metadata": {},
     "output_type": "display_data"
    }
   ],
   "source": [
    "df_metastatic.plot.line(\n",
    "    marker='x',\n",
    "    title='Cancer Spreading Over Time'\n",
    ")\n",
    "    \n",
    "plt.xlabel('Time(Days)')\n",
    "plt.ylabel('Metastatic Sites')\n",
    "plt.show()"
   ]
  },
  {
   "cell_type": "markdown",
   "metadata": {},
   "source": [
    "## Survival Rates"
   ]
  },
  {
   "cell_type": "code",
   "execution_count": 406,
   "metadata": {},
   "outputs": [
    {
     "data": {
      "text/html": [
       "<div>\n",
       "<style>\n",
       "    .dataframe thead tr:only-child th {\n",
       "        text-align: right;\n",
       "    }\n",
       "\n",
       "    .dataframe thead th {\n",
       "        text-align: left;\n",
       "    }\n",
       "\n",
       "    .dataframe tbody tr th {\n",
       "        vertical-align: top;\n",
       "    }\n",
       "</style>\n",
       "<table border=\"1\" class=\"dataframe\">\n",
       "  <thead>\n",
       "    <tr style=\"text-align: right;\">\n",
       "      <th>Drug</th>\n",
       "      <th>Capomulin</th>\n",
       "      <th>Ketapril</th>\n",
       "      <th>Infubinol</th>\n",
       "      <th>Placebo</th>\n",
       "    </tr>\n",
       "    <tr>\n",
       "      <th>Timepoint</th>\n",
       "      <th></th>\n",
       "      <th></th>\n",
       "      <th></th>\n",
       "      <th></th>\n",
       "    </tr>\n",
       "  </thead>\n",
       "  <tbody>\n",
       "    <tr>\n",
       "      <th>0</th>\n",
       "      <td>25</td>\n",
       "      <td>25</td>\n",
       "      <td>25</td>\n",
       "      <td>25</td>\n",
       "    </tr>\n",
       "    <tr>\n",
       "      <th>5</th>\n",
       "      <td>25</td>\n",
       "      <td>23</td>\n",
       "      <td>25</td>\n",
       "      <td>24</td>\n",
       "    </tr>\n",
       "    <tr>\n",
       "      <th>10</th>\n",
       "      <td>25</td>\n",
       "      <td>22</td>\n",
       "      <td>21</td>\n",
       "      <td>24</td>\n",
       "    </tr>\n",
       "    <tr>\n",
       "      <th>15</th>\n",
       "      <td>24</td>\n",
       "      <td>19</td>\n",
       "      <td>21</td>\n",
       "      <td>20</td>\n",
       "    </tr>\n",
       "    <tr>\n",
       "      <th>20</th>\n",
       "      <td>23</td>\n",
       "      <td>19</td>\n",
       "      <td>20</td>\n",
       "      <td>19</td>\n",
       "    </tr>\n",
       "  </tbody>\n",
       "</table>\n",
       "</div>"
      ],
      "text/plain": [
       "Drug       Capomulin  Ketapril  Infubinol  Placebo\n",
       "Timepoint                                         \n",
       "0                 25        25         25       25\n",
       "5                 25        23         25       24\n",
       "10                25        22         21       24\n",
       "15                24        19         21       20\n",
       "20                23        19         20       19"
      ]
     },
     "execution_count": 406,
     "metadata": {},
     "output_type": "execute_result"
    }
   ],
   "source": [
    "df_mouse_count = df_combo.pivot_table(\n",
    "    values='Mouse ID',\n",
    "    index='Timepoint',\n",
    "    columns='Drug',\n",
    "    aggfunc='count'\n",
    ")[DRUGS]\n",
    "\n",
    "df_mouse_count.head()"
   ]
  },
  {
   "cell_type": "code",
   "execution_count": 387,
   "metadata": {
    "scrolled": true
   },
   "outputs": [
    {
     "data": {
      "image/png": "[encoded data removed]",
      "text/plain": [
       "<matplotlib.figure.Figure at 0x1fb965620f0>"
      ]
     },
     "metadata": {},
     "output_type": "display_data"
    }
   ],
   "source": [
    ".reset_index().plot.line(\n",
    "    x='Timepoint',\n",
    "    y=DRUGS,\n",
    "    marker='x',\n",
    "    title='Survivial Rate Over Time'\n",
    ")\n",
    "    \n",
    "plt.xlabel('Time(Days)')\n",
    "plt.ylabel('Number of Mice Still Alive')\n",
    "plt.show()"
   ]
  },
  {
   "cell_type": "markdown",
   "metadata": {},
   "source": [
    "## Summary Bar Graph"
   ]
  },
  {
   "cell_type": "code",
   "execution_count": 416,
   "metadata": {},
   "outputs": [
    {
     "data": {
      "text/html": [
       "<div>\n",
       "<style>\n",
       "    .dataframe thead tr:only-child th {\n",
       "        text-align: right;\n",
       "    }\n",
       "\n",
       "    .dataframe thead th {\n",
       "        text-align: left;\n",
       "    }\n",
       "\n",
       "    .dataframe tbody tr th {\n",
       "        vertical-align: top;\n",
       "    }\n",
       "</style>\n",
       "<table border=\"1\" class=\"dataframe\">\n",
       "  <thead>\n",
       "    <tr style=\"text-align: right;\">\n",
       "      <th></th>\n",
       "      <th>variable</th>\n",
       "      <th>value</th>\n",
       "    </tr>\n",
       "  </thead>\n",
       "  <tbody>\n",
       "    <tr>\n",
       "      <th>0</th>\n",
       "      <td>Capomulin</td>\n",
       "      <td>-19.475303</td>\n",
       "    </tr>\n",
       "    <tr>\n",
       "      <th>1</th>\n",
       "      <td>Ketapril</td>\n",
       "      <td>57.028795</td>\n",
       "    </tr>\n",
       "    <tr>\n",
       "      <th>2</th>\n",
       "      <td>Infubinol</td>\n",
       "      <td>46.123472</td>\n",
       "    </tr>\n",
       "    <tr>\n",
       "      <th>3</th>\n",
       "      <td>Placebo</td>\n",
       "      <td>51.297960</td>\n",
       "    </tr>\n",
       "  </tbody>\n",
       "</table>\n",
       "</div>"
      ],
      "text/plain": [
       "    variable      value\n",
       "0  Capomulin -19.475303\n",
       "1   Ketapril  57.028795\n",
       "2  Infubinol  46.123472\n",
       "3    Placebo  51.297960"
      ]
     },
     "execution_count": 416,
     "metadata": {},
     "output_type": "execute_result"
    }
   ],
   "source": [
    "df_summary = df_combo.pivot_table(\n",
    "    values='Tumor Volume (mm3)',\n",
    "    index='Timepoint',\n",
    "    columns='Drug'\n",
    ").agg(\n",
    "    [lambda x: 100 * (x.iloc[-1] - x.iloc[0]) / x.iloc[0]]\n",
    ")[DRUGS]\n",
    "\n",
    "df_summary.melt()"
   ]
  },
  {
   "cell_type": "code",
   "execution_count": 433,
   "metadata": {},
   "outputs": [
    {
     "data": {
      "text/plain": [
       "Timepoint\n",
       "0     45.000000\n",
       "5     44.266086\n",
       "10    43.084291\n",
       "15    42.064317\n",
       "20    40.716325\n",
       "25    39.939528\n",
       "30    38.769339\n",
       "35    37.816839\n",
       "40    36.958001\n",
       "45    36.236114\n",
       "Name: Tumor Volume (mm3), dtype: float64"
      ]
     },
     "execution_count": 433,
     "metadata": {},
     "output_type": "execute_result"
    }
   ],
   "source": [
    "df_summary = df_combo.groupby(['Drug', 'Timepoint'])['Tumor Volume (mm3)'].mean()\n",
    "df_summary.loc['Capomulin']"
   ]
  },
  {
   "cell_type": "code",
   "execution_count": 417,
   "metadata": {
    "scrolled": false
   },
   "outputs": [
    {
     "ename": "AttributeError",
     "evalue": "'DataFrame' object has no attribute 'value'",
     "output_type": "error",
     "traceback": [
      "\u001b[1;31m---------------------------------------------------------------------------\u001b[0m",
      "\u001b[1;31mAttributeError\u001b[0m                            Traceback (most recent call last)",
      "\u001b[1;32m<ipython-input-417-9b03d0ff82fa>\u001b[0m in \u001b[0;36m<module>\u001b[1;34m()\u001b[0m\n\u001b[0;32m     20\u001b[0m \u001b[0mplt\u001b[0m\u001b[1;33m.\u001b[0m\u001b[0mxlabel\u001b[0m\u001b[1;33m(\u001b[0m\u001b[1;34m'Drug'\u001b[0m\u001b[1;33m)\u001b[0m\u001b[1;33m\u001b[0m\u001b[0m\n\u001b[0;32m     21\u001b[0m \u001b[0mplt\u001b[0m\u001b[1;33m.\u001b[0m\u001b[0mylabel\u001b[0m\u001b[1;33m(\u001b[0m\u001b[1;34m'% Tumer Volume Change'\u001b[0m\u001b[1;33m)\u001b[0m\u001b[1;33m\u001b[0m\u001b[0m\n\u001b[1;32m---> 22\u001b[1;33m \u001b[0mplt\u001b[0m\u001b[1;33m.\u001b[0m\u001b[0mylim\u001b[0m\u001b[1;33m(\u001b[0m\u001b[1;33m(\u001b[0m\u001b[0mdf\u001b[0m\u001b[1;33m.\u001b[0m\u001b[0mvalue\u001b[0m\u001b[1;33m.\u001b[0m\u001b[0mmin\u001b[0m\u001b[1;33m(\u001b[0m\u001b[1;33m)\u001b[0m\u001b[1;33m,\u001b[0m\u001b[1;36m100\u001b[0m\u001b[1;33m)\u001b[0m\u001b[1;33m)\u001b[0m\u001b[1;33m\u001b[0m\u001b[0m\n\u001b[0m\u001b[0;32m     23\u001b[0m \u001b[0mplt\u001b[0m\u001b[1;33m.\u001b[0m\u001b[0mxticks\u001b[0m\u001b[1;33m(\u001b[0m\u001b[0mnp\u001b[0m\u001b[1;33m.\u001b[0m\u001b[0marange\u001b[0m\u001b[1;33m(\u001b[0m\u001b[1;36m0.4\u001b[0m\u001b[1;33m,\u001b[0m \u001b[0mlen\u001b[0m\u001b[1;33m(\u001b[0m\u001b[0mDRUGS\u001b[0m\u001b[1;33m)\u001b[0m\u001b[1;33m)\u001b[0m\u001b[1;33m,\u001b[0m \u001b[0mrotation\u001b[0m\u001b[1;33m=\u001b[0m\u001b[1;36m0\u001b[0m\u001b[1;33m)\u001b[0m\u001b[1;33m\u001b[0m\u001b[0m\n\u001b[0;32m     24\u001b[0m \u001b[0mplt\u001b[0m\u001b[1;33m.\u001b[0m\u001b[0mshow\u001b[0m\u001b[1;33m(\u001b[0m\u001b[1;33m)\u001b[0m\u001b[1;33m\u001b[0m\u001b[0m\n",
      "\u001b[1;32mC:\\ProgramData\\Anaconda3\\lib\\site-packages\\pandas\\core\\generic.py\u001b[0m in \u001b[0;36m__getattr__\u001b[1;34m(self, name)\u001b[0m\n\u001b[0;32m   3079\u001b[0m             \u001b[1;32mif\u001b[0m \u001b[0mname\u001b[0m \u001b[1;32min\u001b[0m \u001b[0mself\u001b[0m\u001b[1;33m.\u001b[0m\u001b[0m_info_axis\u001b[0m\u001b[1;33m:\u001b[0m\u001b[1;33m\u001b[0m\u001b[0m\n\u001b[0;32m   3080\u001b[0m                 \u001b[1;32mreturn\u001b[0m \u001b[0mself\u001b[0m\u001b[1;33m[\u001b[0m\u001b[0mname\u001b[0m\u001b[1;33m]\u001b[0m\u001b[1;33m\u001b[0m\u001b[0m\n\u001b[1;32m-> 3081\u001b[1;33m             \u001b[1;32mreturn\u001b[0m \u001b[0mobject\u001b[0m\u001b[1;33m.\u001b[0m\u001b[0m__getattribute__\u001b[0m\u001b[1;33m(\u001b[0m\u001b[0mself\u001b[0m\u001b[1;33m,\u001b[0m \u001b[0mname\u001b[0m\u001b[1;33m)\u001b[0m\u001b[1;33m\u001b[0m\u001b[0m\n\u001b[0m\u001b[0;32m   3082\u001b[0m \u001b[1;33m\u001b[0m\u001b[0m\n\u001b[0;32m   3083\u001b[0m     \u001b[1;32mdef\u001b[0m \u001b[0m__setattr__\u001b[0m\u001b[1;33m(\u001b[0m\u001b[0mself\u001b[0m\u001b[1;33m,\u001b[0m \u001b[0mname\u001b[0m\u001b[1;33m,\u001b[0m \u001b[0mvalue\u001b[0m\u001b[1;33m)\u001b[0m\u001b[1;33m:\u001b[0m\u001b[1;33m\u001b[0m\u001b[0m\n",
      "\u001b[1;31mAttributeError\u001b[0m: 'DataFrame' object has no attribute 'value'"
     ]
    }
   ],
   "source": [
    "\"\"\".plot.bar(\n",
    "   x='Drug',\n",
    "   y='Tumor Volume Change',\n",
    "   figsize=(10,6)\n",
    ")\n",
    "plt.xlabel('Drug')\n",
    "plt.show()\n",
    "\"\"\"\n",
    "#df\n",
    "df_summary.melt().set_index('variable').plot.bar(\n",
    "    align='edge',\n",
    "    width=0.9,\n",
    "    edgecolor='r',\n",
    "    linewidth=2,\n",
    "    alpha=0.5,\n",
    "    title='Tumor Change Over 45 Day Treatment',\n",
    "    tick_label='abc',\n",
    "    label=None,   \n",
    ")\n",
    "plt.xlabel('Drug')\n",
    "plt.ylabel('% Tumer Volume Change')\n",
    "plt.ylim((df.value.min(),100))\n",
    "plt.xticks(np.arange(0.4, len(DRUGS)), rotation=0)\n",
    "plt.show()"
   ]
  },
  {
   "cell_type": "code",
   "execution_count": 390,
   "metadata": {},
   "outputs": [
    {
     "data": {
      "text/plain": [
       "array([ 0.5,  1.5,  2.5,  3.5])"
      ]
     },
     "execution_count": 390,
     "metadata": {},
     "output_type": "execute_result"
    }
   ],
   "source": [
    "np.arange(0.5, len(DRUGS))"
   ]
  },
  {
   "cell_type": "code",
   "execution_count": null,
   "metadata": {
    "collapsed": true
   },
   "outputs": [],
   "source": []
  }
 ],
 "metadata": {
  "kernelspec": {
   "display_name": "Python 3",
   "language": "python",
   "name": "python3"
  },
  "language_info": {
   "codemirror_mode": {
    "name": "ipython",
    "version": 3
   },
   "file_extension": ".py",
   "mimetype": "text/x-python",
   "name": "python",
   "nbconvert_exporter": "python",
   "pygments_lexer": "ipython3",
   "version": "3.6.3"
  }
 },
 "nbformat": 4,
 "nbformat_minor": 2
}
